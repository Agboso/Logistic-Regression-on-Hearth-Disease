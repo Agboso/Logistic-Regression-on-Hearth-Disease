{
 "cells": [
  {
   "cell_type": "code",
   "execution_count": 8,
   "metadata": {},
   "outputs": [],
   "source": [
    "import pandas as pd\n",
    "import numpy as np\n",
    "from matplotlib import pyplot as plt"
   ]
  },
  {
   "cell_type": "code",
   "execution_count": 14,
   "metadata": {},
   "outputs": [
    {
     "name": "stdout",
     "output_type": "stream",
     "text": [
      "<class 'pandas.core.frame.DataFrame'>\n",
      "RangeIndex: 319795 entries, 0 to 319794\n",
      "Data columns (total 18 columns):\n",
      "HeartDisease        319795 non-null object\n",
      "BMI                 319795 non-null float64\n",
      "Smoking             319795 non-null object\n",
      "AlcoholDrinking     319795 non-null object\n",
      "Stroke              319795 non-null object\n",
      "PhysicalHealth      319795 non-null int64\n",
      "MentalHealth        319795 non-null int64\n",
      "DiffWalking         319795 non-null object\n",
      "Sex                 319795 non-null object\n",
      "AgeCategory         319795 non-null object\n",
      "Race                319795 non-null object\n",
      "Diabetic            319795 non-null object\n",
      "PhysicalActivity    319795 non-null object\n",
      "GenHealth           319795 non-null object\n",
      "SleepTime           319795 non-null int64\n",
      "Asthma              319795 non-null object\n",
      "KidneyDisease       319795 non-null object\n",
      "SkinCancer          319795 non-null object\n",
      "dtypes: float64(1), int64(3), object(14)\n",
      "memory usage: 43.9+ MB\n",
      "Unique values in column 0 are [16.6  20.34 26.58 ... 62.42 51.46 46.56]\n",
      "Unique values in column 1 are [16.6  20.34 26.58 ... 62.42 51.46 46.56]\n",
      "Unique values in column 2 are [16.6  20.34 26.58 ... 62.42 51.46 46.56]\n",
      "Unique values in column 3 are [16.6  20.34 26.58 ... 62.42 51.46 46.56]\n",
      "Unique values in column 4 are [16.6  20.34 26.58 ... 62.42 51.46 46.56]\n",
      "Unique values in column 5 are [16.6  20.34 26.58 ... 62.42 51.46 46.56]\n",
      "Unique values in column 6 are [16.6  20.34 26.58 ... 62.42 51.46 46.56]\n",
      "Unique values in column 7 are [16.6  20.34 26.58 ... 62.42 51.46 46.56]\n",
      "Unique values in column 8 are [16.6  20.34 26.58 ... 62.42 51.46 46.56]\n",
      "Unique values in column 9 are [16.6  20.34 26.58 ... 62.42 51.46 46.56]\n",
      "Unique values in column 10 are [16.6  20.34 26.58 ... 62.42 51.46 46.56]\n",
      "Unique values in column 11 are [16.6  20.34 26.58 ... 62.42 51.46 46.56]\n",
      "Unique values in column 12 are [16.6  20.34 26.58 ... 62.42 51.46 46.56]\n",
      "Unique values in column 13 are [16.6  20.34 26.58 ... 62.42 51.46 46.56]\n",
      "Unique values in column 14 are [16.6  20.34 26.58 ... 62.42 51.46 46.56]\n",
      "Unique values in column 15 are [16.6  20.34 26.58 ... 62.42 51.46 46.56]\n",
      "Unique values in column 16 are [16.6  20.34 26.58 ... 62.42 51.46 46.56]\n",
      "Unique values in column 17 are [16.6  20.34 26.58 ... 62.42 51.46 46.56]\n"
     ]
    }
   ],
   "source": [
    "data = pd.read_csv('heart_2020_cleaned.csv')\n",
    "data.info()\n",
    "\n",
    "for i in range(data.shape[1]):\n",
    "    print(\"Unique values in column {} are {}\".format(i,data.iloc[:,1]. unique()))\n"
   ]
  },
  {
   "cell_type": "code",
   "execution_count": 15,
   "metadata": {},
   "outputs": [],
   "source": [
    "data.iloc[:,8].replace(\"Female\",1,inplace=True)\n",
    "data.iloc[:,8].replace(\"Male\",0,inplace=True)\n",
    "data.iloc[:,9].replace(\"18-24\",1,inplace=True)\n",
    "data.iloc[:,9].replace(\"25-29\",2,inplace=True)\n",
    "data.iloc[:,9].replace(\"30-34\",3,inplace=True)\n",
    "data.iloc[:,9].replace(\"35-39\",4,inplace=True)\n",
    "data.iloc[:,9].replace(\"40-44\",5,inplace=True)\n",
    "data.iloc[:,9].replace(\"45-49\",6,inplace=True)\n",
    "data.iloc[:,9].replace(\"50-54\",7,inplace=True)\n",
    "data.iloc[:,9].replace(\"55-59\",8,inplace=True)\n",
    "data.iloc[:,9].replace(\"60-64\",9,inplace=True)\n",
    "data.iloc[:,9].replace(\"65-69\",10,inplace=True)\n",
    "data.iloc[:,9].replace(\"70-74\",11,inplace=True)\n",
    "data.iloc[:,9].replace(\"75-79\",12,inplace=True)\n",
    "data.iloc[:,9].replace(\"80 or older\",13,inplace=True)\n",
    "data.iloc[:,10].replace(\"White\",1,inplace=True)\n",
    "data.iloc[:,10].replace(\"Black\",2,inplace=True)\n",
    "data.iloc[:,10].replace(\"Asian\",3,inplace=True)\n",
    "data.iloc[:,10].replace(\"American Indian/Alaskan Native\",4,inplace=True)\n",
    "data.iloc[:,10].replace(\"Other\",5,inplace=True)\n",
    "data.iloc[:,10].replace(\"Hispanic\",6,inplace=True)\n",
    "data.iloc[:,11].replace(\"Yes\",4,inplace=True)\n",
    "data.iloc[:,11].replace(\"Yes (during pregnancy)\",3,inplace=True)\n",
    "data.iloc[:,11].replace(\"No, borderline diabetes\",2,inplace=True)\n",
    "data.iloc[:,11].replace(\"No\",1,inplace=True)\n",
    "data.iloc[:,13].replace(\"Excellent\",4,inplace=True)\n",
    "data.iloc[:,13].replace(\"Very good\",3,inplace=True)\n",
    "data.iloc[:,13].replace(\"Good\",2,inplace=True)\n",
    "data.iloc[:,13].replace(\"Fair\",1,inplace=True)\n",
    "data.iloc[:,13].replace(\"Poor\",0,inplace=True)\n",
    "data.replace(\"Yes\",1,inplace=True)\n",
    "data.replace(\"No\",0,inplace=True)"
   ]
  },
  {
   "cell_type": "code",
   "execution_count": 17,
   "metadata": {},
   "outputs": [],
   "source": [
    "y  = data.HeartDisease.values\n",
    "x_d = data.drop([\"HeartDisease\"], axis = 1)\n",
    "x = (x_d - np.min(x_d))/(np.max(x_d)-np.min(x_d)).values"
   ]
  },
  {
   "cell_type": "code",
   "execution_count": null,
   "metadata": {},
   "outputs": [],
   "source": []
  }
 ],
 "metadata": {
  "kernelspec": {
   "display_name": "Python 3",
   "language": "python",
   "name": "python3"
  },
  "language_info": {
   "codemirror_mode": {
    "name": "ipython",
    "version": 3
   },
   "file_extension": ".py",
   "mimetype": "text/x-python",
   "name": "python",
   "nbconvert_exporter": "python",
   "pygments_lexer": "ipython3",
   "version": "3.7.4"
  }
 },
 "nbformat": 4,
 "nbformat_minor": 2
}
